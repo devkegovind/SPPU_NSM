{
 "cells": [
  {
   "cell_type": "code",
   "execution_count": 1,
   "metadata": {},
   "outputs": [
    {
     "name": "stdout",
     "output_type": "stream",
     "text": [
      "%kA$ed*Tn\n"
     ]
    }
   ],
   "source": [
    "import random\n",
    "lower = \"netagovindk\"\n",
    "upper = \"NETAGOVINDK\"\n",
    "number = \"257\"\n",
    "symbol = \"@$!*%&\"\n",
    "\n",
    "all = lower + upper + number + symbol\n",
    "length = 9\n",
    "\n",
    "password = \"\".join(random.sample(all, length))\n",
    "print(password)"
   ]
  },
  {
   "cell_type": "code",
   "execution_count": null,
   "metadata": {},
   "outputs": [],
   "source": []
  }
 ],
 "metadata": {
  "kernelspec": {
   "display_name": "base",
   "language": "python",
   "name": "python3"
  },
  "language_info": {
   "codemirror_mode": {
    "name": "ipython",
    "version": 3
   },
   "file_extension": ".py",
   "mimetype": "text/x-python",
   "name": "python",
   "nbconvert_exporter": "python",
   "pygments_lexer": "ipython3",
   "version": "3.10.9"
  },
  "orig_nbformat": 4
 },
 "nbformat": 4,
 "nbformat_minor": 2
}
