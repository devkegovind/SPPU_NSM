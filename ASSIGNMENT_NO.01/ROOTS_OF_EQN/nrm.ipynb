{
 "cells": [
  {
   "cell_type": "markdown",
   "metadata": {},
   "source": [
    "<h4 style=text-align:center><b>STES's</b><h4>\n",
    "<h1 style=text-align:center><b>SINHGAD ACADEMY OF ENGINEERING</b><h1>\n",
    "<h4 style=text-align:center><b>Kondhwa-Saswad Road Kondhwa-411018</b><h4>\n",
    "<h2 style=text-align:center><b>DEPARTMENT OF MECHANICAL ENGINEERING</b><h2>\n",
    "<h3 style=text-align:center><b>ASSIGNMENT NO.01</b><h3>\n",
    "<h3 style=text-align:center><b>ROOTS OF EQUATIONS</b><h3>\n",
    "<div style=\"display: flex;\">\n",
    "    <div style=\"font-size:25px; text-align: left;\"><b>Class:TE-Mech</b></div>\n",
    "    <div style=\"font-size:25px; text-align: right;\"><b>Sub: Numerical Statistical Methods</b></div>\n",
    "</div>"
   ]
  },
  {
   "cell_type": "markdown",
   "metadata": {},
   "source": [
    "<h3><b>NEWTON RAPHSON METHOD</b></h3>\n",
    "\n",
    "\n",
    "- It is Open End or Extrapolation Method.\n",
    "- It requires only one initial guess or value is required.\n",
    "- $x2$ be the approximate root of the equation.\n",
    "\n",
    "- $x2$ = $x1$ - $f(x1)$/$f'(x1)$\n",
    "\n",
    "- $x2$ = $x1$ - $y1$/$y1'$\n",
    "\n",
    "- $y = f(x)$\n",
    "\n",
    "- $f(x1) * f''(x1) / [f'(x1)^2] <= 1$\n",
    "\n",
    "- Accuracy Criteria $(abs(x2 - x1)) < Accuracy$"
   ]
  },
  {
   "cell_type": "markdown",
   "metadata": {},
   "source": [
    "<h3 style=\"text-align:center;\"><b>PROGRAM FOR NEWTON RAPHSON METHOD(ACCURACY CRITERIA)</b></h3>"
   ]
  },
  {
   "cell_type": "markdown",
   "metadata": {},
   "source": [
    "<h4><b>Solve using Newton-Raphson Method the equation e^x.cos(x) - 1.4 = 0. Find the value of the root upto the accuracy of 0.001</b></h4>"
   ]
  },
  {
   "cell_type": "code",
   "execution_count": 6,
   "metadata": {},
   "outputs": [],
   "source": [
    "import math\n",
    "def f(x):\n",
    "    return ((math.exp(x) * math.cos(x)) - 1.4)\n",
    "\n",
    "def df(x):\n",
    "    return (math.exp(x)*(math.cos(x) - math.sin(x)))\n",
    "\n",
    "def ddf(x):\n",
    "    return (-2*math.exp(x)*math.sin(x))\n",
    "\n",
    "x1 = int(input(\"Enter the Initial Guess: \"))\n",
    "a = float(input(\"Enter the value of Accuracy: \"))\n",
    "\n",
    "b = (f(x1)*ddf(x1)) / (df(x1) * df(x1))\n",
    "\n",
    "while (abs(b) > 1):\n",
    "\n",
    "    x1 = int(input(\"Enter the value of Initial Guess: \"))\n",
    "\n",
    "x2 = x1 - (f(x1) / df(x1))\n",
    "\n",
    "while (abs(x2 - x1) > a):\n",
    "\n",
    "    x1 = x2\n",
    "\n",
    "    x2 = x1 - (f(x1) / df(x1))"
   ]
  },
  {
   "cell_type": "markdown",
   "metadata": {},
   "source": [
    "```\n",
    "Enter the value of initial guess x1 = 0\n",
    "Enter the value of Accuracy = 0.001\n",
    "```"
   ]
  },
  {
   "cell_type": "code",
   "execution_count": 7,
   "metadata": {},
   "outputs": [
    {
     "name": "stdout",
     "output_type": "stream",
     "text": [
      "The Root of Equation is:0.43356024516094005\n"
     ]
    }
   ],
   "source": [
    "print(f\"The Root of Equation is:{x2}\")"
   ]
  },
  {
   "cell_type": "markdown",
   "metadata": {},
   "source": [
    "<h3 style=\"text-align:center;\"><b>PROGRAM FOR NEWTON RAPHSON METHOD(ITERATIONS CRITERIA)</b></h3>"
   ]
  },
  {
   "cell_type": "markdown",
   "metadata": {},
   "source": [
    "<h4><b>Solve e^x.cos(x) - 1.2 = 0 by Newton-Raphson Method. Take Initial guess x = 1.2. Make at least four iteration.</b></h4> "
   ]
  },
  {
   "cell_type": "code",
   "execution_count": 18,
   "metadata": {},
   "outputs": [],
   "source": [
    "import math\n",
    "\n",
    "def f(x):\n",
    "    return math.exp(x) * math.cos(x) - 1.2\n",
    "\n",
    "def df(x):\n",
    "    return math.exp(x) * (math.cos(x) - math.sin(x))\n",
    "\n",
    "'''\n",
    "def ddf(x):\n",
    "    return math.sin(x)'''\n",
    "\n",
    "x1 = float(input(\"Enter the Initial Guess: \"))\n",
    "n = int(input(\"Enter the No. of Iterations: \"))\n",
    "\n",
    "'''b = f(x1)*df(x1) / ddf(x1)**2\n",
    "\n",
    "while (abs(b) > 1):\n",
    "    \n",
    "    x1 = int(input(\"Enter the initial value again: \"))\n",
    "\n",
    "x2 = x1 - ((f(x1)/(df(x1))))'''\n",
    "\n",
    "for i in range(n):\n",
    "\n",
    "    x2 = x1 - ((f(x1)/(df(x1))))\n",
    "\n",
    "    x2 = x1\n",
    "    \n",
    "    \n",
    "\n",
    "x2 = x1 - ((f(x1)/(df(x1))))"
   ]
  },
  {
   "cell_type": "markdown",
   "metadata": {},
   "source": [
    "```\n",
    "x1 = Enter the Initial Guess = 1.2\n",
    "n = Enter the No. of Iterations = 4\n",
    "```"
   ]
  },
  {
   "cell_type": "code",
   "execution_count": 19,
   "metadata": {},
   "outputs": [
    {
     "name": "stdout",
     "output_type": "stream",
     "text": [
      "The Root of the Equations is :1.201623188493138\n"
     ]
    }
   ],
   "source": [
    "print(f\"The Root of the Equations is :{x2}\")"
   ]
  },
  {
   "cell_type": "code",
   "execution_count": 20,
   "metadata": {},
   "outputs": [],
   "source": [
    "def create_matrix(rows, columns):\n",
    "    matrix = []\n",
    "    for i in range(rows):\n",
    "        row = []\n",
    "        for j in range(columns):\n",
    "            values = float(input(f\"Enter the value for element ({i+1}, {j+1}): \"))\n",
    "            row.append(values)\n",
    "        matrix.append(row)\n",
    "    return matrix"
   ]
  },
  {
   "cell_type": "code",
   "execution_count": 21,
   "metadata": {},
   "outputs": [
    {
     "data": {
      "text/plain": [
       "[[1.0, 2.0, 3.0], [4.0, 5.0, 6.0], [7.0, 8.0, 9.0]]"
      ]
     },
     "execution_count": 21,
     "metadata": {},
     "output_type": "execute_result"
    }
   ],
   "source": [
    "create_matrix(3,3)"
   ]
  },
  {
   "cell_type": "code",
   "execution_count": null,
   "metadata": {},
   "outputs": [],
   "source": []
  }
 ],
 "metadata": {
  "kernelspec": {
   "display_name": "base",
   "language": "python",
   "name": "python3"
  },
  "language_info": {
   "codemirror_mode": {
    "name": "ipython",
    "version": 3
   },
   "file_extension": ".py",
   "mimetype": "text/x-python",
   "name": "python",
   "nbconvert_exporter": "python",
   "pygments_lexer": "ipython3",
   "version": "3.10.9"
  },
  "orig_nbformat": 4
 },
 "nbformat": 4,
 "nbformat_minor": 2
}
