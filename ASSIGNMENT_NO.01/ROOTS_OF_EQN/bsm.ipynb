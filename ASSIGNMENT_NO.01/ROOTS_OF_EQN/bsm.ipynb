{
 "cells": [
  {
   "cell_type": "code",
   "execution_count": 18,
   "metadata": {},
   "outputs": [],
   "source": [
    "def bise(func, x1, x2, iterations):\n",
    "\n",
    "    \n",
    "\n",
    "    if func(x1) * func(x2) >= 0:\n",
    "        raise ValueError(\"The function must have different signs\")\n",
    "    \n",
    "\n",
    "    for iteration in range(iterations):\n",
    "        x3 = (x1 + x2) / 2.0\n",
    "\n",
    "        if func(x1) * func(x3) < 0:\n",
    "            x2 = x3\n",
    "        else:\n",
    "            x1 = x3\n",
    "    return x3\n",
    "    \n",
    "if __name__ == \"__main__\":\n",
    "    import math\n",
    "\n",
    "    # Define the Function for which you want to find the root of equ.\n",
    "\n",
    "    def f(x):\n",
    "        return -0.9*x**2 + 1.7*x + 2.5"
   ]
  },
  {
   "cell_type": "code",
   "execution_count": 30,
   "metadata": {},
   "outputs": [
    {
     "name": "stdout",
     "output_type": "stream",
     "text": [
      "The Root of the Given Equation -0.9*x**2 + 1.7*x + 2.5 is:2.875\n"
     ]
    }
   ],
   "source": [
    "root1 = bise(f, 2.8, 3, 3)\n",
    "print(f\"The Root of the Given Equation -0.9*x**2 + 1.7*x + 2.5 is:{root1}\")"
   ]
  },
  {
   "cell_type": "code",
   "execution_count": 38,
   "metadata": {},
   "outputs": [],
   "source": [
    "def bise1(f, x1, x2, acc):\n",
    "\n",
    "    \n",
    "\n",
    "    if f(x1) * f(x2) >= 0:\n",
    "        raise ValueError(\"The function must have different signs\")\n",
    "    \n",
    "\n",
    "    while(abs(x1 - x2) > acc):    \n",
    "        x3 = (x1 + x2) / 2.0\n",
    "\n",
    "        if f(x1) * f(x3) < 0:\n",
    "            x2 = x3\n",
    "        else:\n",
    "            x1 = x3\n",
    "    return x3\n",
    "    \n",
    "if __name__ == \"__main__\":\n",
    "    import math\n",
    "\n",
    "    # Define the Function for which you want to find the root of equ.\n",
    "\n",
    "    def f(x):\n",
    "        return x*math.e**x - 3.1*math.cos(x)"
   ]
  },
  {
   "cell_type": "code",
   "execution_count": 39,
   "metadata": {},
   "outputs": [
    {
     "name": "stdout",
     "output_type": "stream",
     "text": [
      "0.8515625\n"
     ]
    }
   ],
   "source": [
    "root2 = bise1(f, 0, 1, 0.01)\n",
    "print(root2)"
   ]
  },
  {
   "cell_type": "code",
   "execution_count": null,
   "metadata": {},
   "outputs": [],
   "source": []
  }
 ],
 "metadata": {
  "kernelspec": {
   "display_name": "base",
   "language": "python",
   "name": "python3"
  },
  "language_info": {
   "codemirror_mode": {
    "name": "ipython",
    "version": 3
   },
   "file_extension": ".py",
   "mimetype": "text/x-python",
   "name": "python",
   "nbconvert_exporter": "python",
   "pygments_lexer": "ipython3",
   "version": "3.10.9"
  },
  "orig_nbformat": 4
 },
 "nbformat": 4,
 "nbformat_minor": 2
}
