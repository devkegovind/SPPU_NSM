{
 "cells": [
  {
   "cell_type": "markdown",
   "metadata": {},
   "source": [
    "<h1 style=text-align:center><b>ASSIGNMENT NO.01</b><h1>\n",
    "<h2 style=text-align:center><b>ROOTS OF EQUATIONS</b><h2>\n",
    "<div style=\"display: flex;\">\n",
    "    <div style=\"flex:4; text-align: left;\"><b>CLASS:TE-MECH</b></div>\n",
    "    <div style=\"flex:4; text-align: right;\"><b>SUB: Numerical Statistical Methods</b></div>\n",
    "</div>"
   ]
  },
  {
   "cell_type": "markdown",
   "metadata": {},
   "source": [
    "<h3><b>BI-SECTION OR HALF INTERVAL METHOD</b></h3>"
   ]
  },
  {
   "cell_type": "markdown",
   "metadata": {},
   "source": [
    "- This method is also called Binary chopping or Bolzano's Method.\n",
    "- It requires two initial guesses or values are required.\n",
    "- $x3$ be the approximate root of the equation.\n",
    "\n",
    "- $x3$ = $x1$+$x2$/$2$\n",
    "\n",
    "- $y = f(x)$\n",
    "\n",
    "- $f(x1)$ i.e. $y1$ and $f(x2)$ i.e. $y2$ both have alternate sign.\n",
    "\n",
    "- $f(x1) * f(x2) < 0$"
   ]
  },
  {
   "cell_type": "markdown",
   "metadata": {},
   "source": [
    "<h3 style=\"text-align:center;\"><b>PROGRAM FOR BISECTION METHOD(ACCURACY CRITERIA)</b></h3>"
   ]
  },
  {
   "cell_type": "markdown",
   "metadata": {},
   "source": []
  },
  {
   "cell_type": "markdown",
   "metadata": {},
   "source": []
  },
  {
   "cell_type": "markdown",
   "metadata": {},
   "source": []
  },
  {
   "cell_type": "markdown",
   "metadata": {},
   "source": []
  },
  {
   "cell_type": "code",
   "execution_count": 1,
   "metadata": {},
   "outputs": [
    {
     "data": {
      "text/plain": [
       "'if __name__ == \"__main__\":\\n    import math\\n\\n    # Define the Function for which you want to find the root of equ.'"
      ]
     },
     "execution_count": 1,
     "metadata": {},
     "output_type": "execute_result"
    }
   ],
   "source": [
    "def f(x):\n",
    "        return -0.9*x**2 + 1.7*x + 2.5\n",
    "\n",
    "\n",
    "def bise(func, x1, x2, iterations):    \n",
    "\n",
    "    if func(x1) * func(x2) >= 0:\n",
    "        raise ValueError(\"The function must have different signs\")\n",
    "    \n",
    "\n",
    "    for iteration in range(iterations):\n",
    "        x3 = (x1 + x2) / 2.0\n",
    "\n",
    "        if func(x1) * func(x3) < 0:\n",
    "            x2 = x3\n",
    "        else:\n",
    "            x1 = x3\n",
    "    return x3\n",
    "    \n",
    "'''if __name__ == \"__main__\":\n",
    "    import math\n",
    "\n",
    "    # Define the Function for which you want to find the root of equ.'''"
   ]
  },
  {
   "cell_type": "code",
   "execution_count": 2,
   "metadata": {},
   "outputs": [
    {
     "name": "stdout",
     "output_type": "stream",
     "text": [
      "The Root of the Given Equation -0.9*x**2 + 1.7*x + 2.5 is:2.875\n"
     ]
    }
   ],
   "source": [
    "root1 = bise(f, 2.8, 3, 3)\n",
    "print(f\"The Root of the Given Equation -0.9*x**2 + 1.7*x + 2.5 is:{root1}\")"
   ]
  },
  {
   "cell_type": "code",
   "execution_count": 38,
   "metadata": {},
   "outputs": [],
   "source": [
    "def bise1(f, x1, x2, acc):\n",
    "\n",
    "    \n",
    "\n",
    "    if f(x1) * f(x2) >= 0:\n",
    "        raise ValueError(\"The function must have different signs\")\n",
    "    \n",
    "\n",
    "    while(abs(x1 - x2) > acc):    \n",
    "        x3 = (x1 + x2) / 2.0\n",
    "\n",
    "        if f(x1) * f(x3) < 0:\n",
    "            x2 = x3\n",
    "        else:\n",
    "            x1 = x3\n",
    "    return x3\n",
    "    \n",
    "if __name__ == \"__main__\":\n",
    "    import math\n",
    "\n",
    "    # Define the Function for which you want to find the root of equ.\n",
    "\n",
    "    def f(x):\n",
    "        return x*math.e**x - 3.1*math.cos(x)"
   ]
  },
  {
   "cell_type": "code",
   "execution_count": 39,
   "metadata": {},
   "outputs": [
    {
     "name": "stdout",
     "output_type": "stream",
     "text": [
      "0.8515625\n"
     ]
    }
   ],
   "source": [
    "root2 = bise1(f, 0, 1, 0.01)\n",
    "print(root2)"
   ]
  },
  {
   "cell_type": "code",
   "execution_count": 6,
   "metadata": {},
   "outputs": [],
   "source": [
    "import math"
   ]
  },
  {
   "cell_type": "code",
   "execution_count": 7,
   "metadata": {},
   "outputs": [],
   "source": [
    "# Define the Given Function\n",
    "\n",
    "def f(x):\n",
    "    y = math.cos(x) - 1.3*x\n",
    "    return y"
   ]
  },
  {
   "cell_type": "code",
   "execution_count": 11,
   "metadata": {},
   "outputs": [
    {
     "name": "stdout",
     "output_type": "stream",
     "text": [
      "The Final Root of Equation is:0.62109375\n"
     ]
    }
   ],
   "source": [
    "# Take the Input Data From the User\n",
    "x1 = float(input(\"Enter value of initial guess x1 = \"))\n",
    "x2 = float(input(\"Enter value of initial guess x2 = \"))\n",
    "acc = float(input(\"Enter value of Accuracy = \"))\n",
    "\n",
    "# Calculate the Function y1 & y2\n",
    "y1 = f(x1)\n",
    "y2 = f(x2)\n",
    "\n",
    "# Check Whether y1 * y2 < 0 or not\n",
    "# To Check Our initial guesses are right or wrong \n",
    "while(y1 * y2) > 0:\n",
    "    x1 = float(input(\"Enter value of initial guess x1 = \"))\n",
    "    x2 = float(input(\"Enter value of initial guess x2 = \"))\n",
    "\n",
    "    y1 = f(x1)\n",
    "    y2 = f(x2)\n",
    "\n",
    "# To Check the Accuracy Criteria\n",
    "while (abs(x1 - x2)>acc):\n",
    "\n",
    "    x3 = (x1 + x2)/2\n",
    "\n",
    "    y3 = f(x3)\n",
    "\n",
    "    # Replace the Value of x1 or x2 by x3\n",
    "\n",
    "    if (y1 * y3)<0:\n",
    "        x2 = x3 \n",
    "        y2 = y3\n",
    "    else:\n",
    "        x1 = x3\n",
    "        y1 = y3\n",
    "\n",
    "# Calculate the Final Root of Eq. by Using Bi-section Formula\n",
    "x3 = (x1 + x2)/2\n",
    "print(f\"The Final Root of Equation is:{x3}\")\n"
   ]
  },
  {
   "cell_type": "code",
   "execution_count": null,
   "metadata": {},
   "outputs": [],
   "source": []
  }
 ],
 "metadata": {
  "kernelspec": {
   "display_name": "base",
   "language": "python",
   "name": "python3"
  },
  "language_info": {
   "codemirror_mode": {
    "name": "ipython",
    "version": 3
   },
   "file_extension": ".py",
   "mimetype": "text/x-python",
   "name": "python",
   "nbconvert_exporter": "python",
   "pygments_lexer": "ipython3",
   "version": "3.10.9"
  },
  "orig_nbformat": 4
 },
 "nbformat": 4,
 "nbformat_minor": 2
}
